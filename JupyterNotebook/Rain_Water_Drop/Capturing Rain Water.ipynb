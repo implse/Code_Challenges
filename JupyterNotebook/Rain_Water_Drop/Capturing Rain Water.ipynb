{
 "cells": [
  {
   "cell_type": "markdown",
   "metadata": {},
   "source": [
    "# Capturing Rain Water"
   ]
  },
  {
   "cell_type": "markdown",
   "metadata": {},
   "source": [
    "Write a function which calculates the total water captured from an input of a list of integers.\n",
    "[2, 0, 1, 3, 0, 4, 0, 1] should return 7"
   ]
  },
  {
   "cell_type": "markdown",
   "metadata": {},
   "source": [
    "![title](image/rainWater.png)"
   ]
  },
  {
   "cell_type": "markdown",
   "metadata": {},
   "source": [
    "## Finding Solution"
   ]
  },
  {
   "cell_type": "markdown",
   "metadata": {},
   "source": [
    "- Move from left to right to find max left_wall.\n",
    "- Move from right to left to find the max right_wall"
   ]
  },
  {
   "cell_type": "code",
   "execution_count": null,
   "metadata": {},
   "outputs": [],
   "source": [
    "left_wall  = [2, 2, 2, 3, 3, 4, 4, 4]\n",
    "right_wall = [4, 4, 4, 4, 4, 4, 1, 1]"
   ]
  },
  {
   "cell_type": "markdown",
   "metadata": {},
   "source": [
    "We need to iterate over the list and at each iteration we take the minimum between left_wall and right_wall.\n",
    "Finally we substract at each index the minimum value minus the input list value and add the result to the variable trap_water."
   ]
  },
  {
   "cell_type": "code",
   "execution_count": 37,
   "metadata": {},
   "outputs": [],
   "source": [
    "def total_water(lst):\n",
    "    left_wall = [lst[0]]\n",
    "    right_wall = [lst[-1]]\n",
    "    trap_water = 0\n",
    "    ln = len(lst)\n",
    "    # Find Walls\n",
    "    for i in range(1, ln):\n",
    "        left_wall.append(max(left_wall[i-1], lst[i]))\n",
    "        right_wall.append(max(right_wall[i-1], lst[ln-1-i]))\n",
    "    # Sum trap water\n",
    "    print(left_wall)\n",
    "    print(right_wall)\n",
    "    for k in range(ln):\n",
    "        wall = min(left_wall[k], right_wall[ln-1-k])\n",
    "        trap_water += wall - lst[k]\n",
    "    return trap_water"
   ]
  },
  {
   "cell_type": "code",
   "execution_count": 38,
   "metadata": {},
   "outputs": [
    {
     "name": "stdout",
     "output_type": "stream",
     "text": [
      "[2, 2, 2, 3, 3, 4, 4, 4]\n",
      "[1, 1, 4, 4, 4, 4, 4, 4]\n",
      "7\n"
     ]
    }
   ],
   "source": [
    "lst = [2, 0, 1, 3, 0, 4, 0, 1]\n",
    "print(total_water(lst))"
   ]
  },
  {
   "cell_type": "code",
   "execution_count": null,
   "metadata": {},
   "outputs": [],
   "source": []
  }
 ],
 "metadata": {
  "kernelspec": {
   "display_name": "Python 3",
   "language": "python",
   "name": "python3"
  },
  "language_info": {
   "codemirror_mode": {
    "name": "ipython",
    "version": 3
   },
   "file_extension": ".py",
   "mimetype": "text/x-python",
   "name": "python",
   "nbconvert_exporter": "python",
   "pygments_lexer": "ipython3",
   "version": "3.7.0"
  }
 },
 "nbformat": 4,
 "nbformat_minor": 2
}
